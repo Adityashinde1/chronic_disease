{
 "cells": [
  {
   "cell_type": "code",
   "execution_count": 28,
   "metadata": {},
   "outputs": [],
   "source": [
    "from kidney_disease.entity.config_entity import DataIngestionConfig\n",
    "import pandas as pd\n",
    "from kidney_disease.entity.config_entity import DataIngestionConfig, DataTransformationConfig,DataValidationConfig,   \\\n",
    "ModelTrainerConfig,ModelEvaluationConfig,ModelPusherConfig,TrainingPipelineConfig\n",
    "from kidney_disease.entity import *\n",
    "from kidney_disease.util.util import *\n",
    "from sklearn.pipeline import Pipeline\n",
    "from sklearn.preprocessing import StandardScaler, OrdinalEncoder\n",
    "from sklearn.compose import ColumnTransformer\n",
    "from sklearn.impute import KNNImputer\n",
    "from sklearn.model_selection import train_test_split\n",
    "from category_encoders.binary import BinaryEncoder"
   ]
  },
  {
   "cell_type": "code",
   "execution_count": 117,
   "metadata": {},
   "outputs": [],
   "source": [
    "\n",
    "schema_file_path = 'F:\\chronic_disease\\config\\schema.yaml'\n",
    "\n",
    "schema_df = read_yaml_file(file_path=schema_file_path)\n",
    "\n",
    "numerical_columns = schema_df[NUMERICAL_COLUMN_KEY]\n",
    "categorical_columns = schema_df[CATEGORICAL_COLUMN_KEY]\n",
    "\n",
    "\n",
    "\n",
    "cat_pipeline = Pipeline(steps=[('binaryencoding', BinaryEncoder()), (\"impute\", KNNImputer(n_neighbors=2)) ])\n",
    "num_pipeline = Pipeline(steps=[('knn_imputer', KNNImputer(n_neighbors=3)), ('scaler', StandardScaler())])\n",
    "\n"
   ]
  },
  {
   "cell_type": "code",
   "execution_count": 118,
   "metadata": {},
   "outputs": [],
   "source": [
    "df = 'https://raw.githubusercontent.com/Adityashinde1/chronic_disease/main/data/kidney_disease.csv'\n",
    "df = pd.read_csv(df)"
   ]
  },
  {
   "cell_type": "code",
   "execution_count": 119,
   "metadata": {},
   "outputs": [],
   "source": [
    "df['pcv'] = df['pcv'].replace(\"?\", np.NaN)\n",
    "df['wc'] = df['wc'].replace(\"?\", np.NaN)\n",
    "df['rc'] = df['rc'].replace(\"?\", np.NaN)\n",
    "\n",
    "df = df.drop('id',axis=1)\n",
    "\n",
    "\n",
    "rc_column_value = 5.1\n",
    "pcv_column_value = 27\n",
    "wc_column_value = 8500\n",
    "\n",
    "df['rc'] = df['rc'].fillna(value=rc_column_value)\n",
    "df['pcv'] = df['pcv'].fillna(value=pcv_column_value)\n",
    "df['wc'] = df['wc'].fillna(value=wc_column_value)\n",
    "\n",
    "df = df.astype({\"rc\": float, \"pcv\": int, \"wc\": int})"
   ]
  },
  {
   "cell_type": "code",
   "execution_count": 126,
   "metadata": {},
   "outputs": [],
   "source": [
    "preprocessing = ColumnTransformer([\n",
    "                ('num_pipeline', num_pipeline, numerical_columns),\n",
    "                ('cat_pipeline', cat_pipeline, categorical_columns)\n",
    "                ])"
   ]
  },
  {
   "cell_type": "code",
   "execution_count": 128,
   "metadata": {},
   "outputs": [
    {
     "name": "stdout",
     "output_type": "stream",
     "text": [
      "(320, 25)\n",
      "(80, 25)\n"
     ]
    }
   ],
   "source": [
    "train_set, test_set = train_test_split(df, test_size=0.2)\n",
    "print(train_set.shape)\n",
    "print(test_set.shape)"
   ]
  },
  {
   "cell_type": "code",
   "execution_count": 129,
   "metadata": {},
   "outputs": [
    {
     "data": {
      "text/plain": [
       "array([[ 0.54599095, -0.42592618,  1.41899496, ...,  1.        ,\n",
       "         0.        ,  1.        ],\n",
       "       [ 1.11215137, -0.42592618, -1.28743251, ...,  1.        ,\n",
       "         0.        ,  1.        ],\n",
       "       [ 0.94230324, -0.42592618, -0.38529002, ...,  0.        ,\n",
       "         0.        ,  1.        ],\n",
       "       ...,\n",
       "       [-1.03925821,  0.29142318,  1.41899496, ...,  1.        ,\n",
       "         0.        ,  1.        ],\n",
       "       [-1.60541863, -1.14327554,  0.51685247, ...,  1.        ,\n",
       "         0.        ,  1.        ],\n",
       "       [-2.05834696,  0.29142318,  1.41899496, ...,  1.        ,\n",
       "         0.        ,  1.        ]])"
      ]
     },
     "execution_count": 129,
     "metadata": {},
     "output_type": "execute_result"
    }
   ],
   "source": [
    "\n",
    "preprocessing.fit_transform(train_set)"
   ]
  },
  {
   "cell_type": "code",
   "execution_count": null,
   "metadata": {},
   "outputs": [],
   "source": []
  }
 ],
 "metadata": {
  "kernelspec": {
   "display_name": "Python 3.7.13 (conda)",
   "language": "python",
   "name": "python3"
  },
  "language_info": {
   "codemirror_mode": {
    "name": "ipython",
    "version": 3
   },
   "file_extension": ".py",
   "mimetype": "text/x-python",
   "name": "python",
   "nbconvert_exporter": "python",
   "pygments_lexer": "ipython3",
   "version": "3.7.13"
  },
  "orig_nbformat": 4,
  "vscode": {
   "interpreter": {
    "hash": "f2b4d6966334777a6b130175ada60232c3b0576b30bae988020252a277f77314"
   }
  }
 },
 "nbformat": 4,
 "nbformat_minor": 2
}
