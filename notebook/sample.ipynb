{
 "cells": [
  {
   "cell_type": "code",
   "execution_count": 2,
   "metadata": {},
   "outputs": [],
   "source": [
    "from kidneyDisease.entity.config_entity import DataIngestionConfig\n",
    "import pandas as pd\n",
    "from kidneyDisease.entity.config_entity import DataIngestionConfig, DataTransformationConfig,DataValidationConfig,   \\\n",
    "ModelTrainerConfig,ModelEvaluationConfig,ModelPusherConfig,TrainingPipelineConfig\n",
    "from kidneyDisease.entity import *\n",
    "from kidneyDisease.util.util import *"
   ]
  },
  {
   "cell_type": "code",
   "execution_count": 5,
   "metadata": {},
   "outputs": [],
   "source": [
    "\n",
    "schema_file_path = 'F:\\chronic_disease\\config\\schema.yaml'\n",
    "\n",
    "schema_df = read_yaml_file(file_path=schema_file_path)\n",
    "numerical_columns = schema_df[NUMERICAL_COLUMN_KEY]\n",
    "categorical_columns = schema_df[CATEGORICAL_COLUMN_KEY]\n",
    "all_columns = numerical_columns + categorical_columns"
   ]
  },
  {
   "cell_type": "code",
   "execution_count": 10,
   "metadata": {},
   "outputs": [
    {
     "data": {
      "text/plain": [
       "[{'age': 'float'},\n",
       " {'bp': 'float'},\n",
       " {'sg': 'float'},\n",
       " {'al': 'float'},\n",
       " {'su': 'float'},\n",
       " {'bgr': 'float'},\n",
       " {'bu': 'float'},\n",
       " {'sc': 'float'},\n",
       " {'sod': 'float'},\n",
       " {'pot': 'float'},\n",
       " {'hemo': 'float'},\n",
       " {'pcv': 'float'},\n",
       " {'wbcc': 'float'},\n",
       " {'rbcc': 'float'},\n",
       " {'rbc': 'category'},\n",
       " {'pc': 'category'},\n",
       " {'pcc': 'category'},\n",
       " {'ba': 'category'},\n",
       " {'htn': 'category'},\n",
       " {'dm': 'category'},\n",
       " {'cad': 'category'},\n",
       " {'appet': 'category'},\n",
       " {'pe': 'category'},\n",
       " {'ane': 'category'}]"
      ]
     },
     "execution_count": 10,
     "metadata": {},
     "output_type": "execute_result"
    }
   ],
   "source": [
    "all_columns"
   ]
  },
  {
   "cell_type": "code",
   "execution_count": null,
   "metadata": {},
   "outputs": [],
   "source": []
  }
 ],
 "metadata": {
  "kernelspec": {
   "display_name": "Python 3.7.13 (conda)",
   "language": "python",
   "name": "python3"
  },
  "language_info": {
   "codemirror_mode": {
    "name": "ipython",
    "version": 3
   },
   "file_extension": ".py",
   "mimetype": "text/x-python",
   "name": "python",
   "nbconvert_exporter": "python",
   "pygments_lexer": "ipython3",
   "version": "3.7.13"
  },
  "orig_nbformat": 4,
  "vscode": {
   "interpreter": {
    "hash": "f2b4d6966334777a6b130175ada60232c3b0576b30bae988020252a277f77314"
   }
  }
 },
 "nbformat": 4,
 "nbformat_minor": 2
}
